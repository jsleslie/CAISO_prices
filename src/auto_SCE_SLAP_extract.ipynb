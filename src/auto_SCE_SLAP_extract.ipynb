{
 "cells": [
  {
   "cell_type": "markdown",
   "metadata": {},
   "source": [
    "# CAISO OASIS Data downloader\n",
    "\n",
    "Data taken from [CAISO Oasis portal](http://oasis.caiso.com/mrioasis)\n",
    "\n",
    "API documentation located [here](http://www.caiso.com/Documents/OASIS-InterfaceSpecification_v5_1_3Clean_Fall2017Release.pdf)"
   ]
  },
  {
   "cell_type": "code",
   "execution_count": 13,
   "metadata": {},
   "outputs": [],
   "source": [
    "import requests\n",
    "from selenium import webdriver\n",
    "import pandas as pd\n",
    "import zipfile as zp\n",
    "import time\n",
    "import os\n",
    "import glob"
   ]
  },
  {
   "cell_type": "code",
   "execution_count": null,
   "metadata": {},
   "outputs": [],
   "source": [
    "\n",
    "\n",
    "\n"
   ]
  },
  {
   "cell_type": "code",
   "execution_count": 7,
   "metadata": {},
   "outputs": [
    {
     "data": {
      "text/plain": [
       "'1201'"
      ]
     },
     "execution_count": 7,
     "metadata": {},
     "output_type": "execute_result"
    }
   ],
   "source": [
    "month_dict = {'Jan': ['0101', '0131'],\n",
    "              'Feb': ['0201', '0228'],\n",
    "              'Mar': ['0301', '0331'],\n",
    "              'Apr': ['0401', '0430'],\n",
    "              'May': ['0501', '0531'],\n",
    "              'Jun': ['0601', '0630'],\n",
    "              'Jul': ['0701', '0731'],\n",
    "              'Aug': ['0801', '0831'],\n",
    "              'Sep': ['0901', '0930'],\n",
    "              'Oct': ['1001', '1031'],\n",
    "              'Nov': ['1101', '1130'],\n",
    "              'Dec': ['1201', '1231']\n",
    "              }\n",
    "\n",
    "month_dict['Dec'][0]"
   ]
  },
  {
   "cell_type": "code",
   "execution_count": 77,
   "metadata": {},
   "outputs": [],
   "source": [
    "def extract_monthly_data(year):\n",
    "    chrome_options = webdriver.ChromeOptions()\n",
    "    prefs = {'download.default_directory' : '/Users/jaromeleslie/Documents/MDS/Personal_projects/CAISO_oasis_extractor/data/'+str(year)}\n",
    "    chrome_options.add_experimental_option('prefs', prefs)\n",
    "\n",
    "    driver = webdriver.Chrome(chrome_options=chrome_options)\n",
    "    for month in month_dict.keys():\n",
    "        api_call = \"http://oasis.caiso.com/oasisapi/SingleZip?queryname=PRC_LMP&resultformat=6&startdatetime=\" + str(year)+month_dict[month][0] + \"T07:00-0000&enddatetime=\" +  str(year)+month_dict[month][1] + \"T07:00-0000&version=1&market_run_id=DAM&node=SLAP_SCEC-APND,SLAP_SCEN-APND,SLAP_SCEW-APND,SLAP_SCHD-APND,SLAP_SCLD-APND,SLAP_SCNW-APND\"\n",
    "        print(api_call)\n",
    "        driver.get(api_call)\n",
    "        time.sleep(15)\n",
    "        \n",
    "    zip_files = glob.glob('../data/' +str(year)+'/*.zip')\n",
    "    for zip_filename in zip_files:\n",
    "        dir_name = os.path.splitext(zip_filename)[0]\n",
    "        os.mkdir(dir_name)\n",
    "        zip_handler = zp.ZipFile(zip_filename, \"r\")\n",
    "        zip_handler.extractall(dir_name)\n",
    "\n",
    "    # path = dir_name\n",
    "    csv_files = glob.glob('../data/' + str(year) +'/*/*.csv')\n",
    "\n",
    "    entries =[]\n",
    "\n",
    "    for csv in csv_files:\n",
    "        entries.append(pd.read_csv(csv))\n",
    "\n",
    "\n",
    "    combined_csvs = pd.concat(entries)\n",
    "    combined_csvs.to_csv('../data/' + str(year) +'/'+ str(year) +'_SCE_SLAPs.csv')   "
   ]
  },
  {
   "cell_type": "code",
   "execution_count": 78,
   "metadata": {},
   "outputs": [
    {
     "name": "stderr",
     "output_type": "stream",
     "text": [
      "/Users/jaromeleslie/anaconda3/lib/python3.7/site-packages/ipykernel_launcher.py:6: DeprecationWarning: use options instead of chrome_options\n",
      "  \n"
     ]
    },
    {
     "name": "stdout",
     "output_type": "stream",
     "text": [
      "http://oasis.caiso.com/oasisapi/SingleZip?queryname=PRC_LMP&resultformat=6&startdatetime=20190101T07:00-0000&enddatetime=20190131T07:00-0000&version=1&market_run_id=DAM&node=SLAP_SCEC-APND,SLAP_SCEN-APND,SLAP_SCEW-APND,SLAP_SCHD-APND,SLAP_SCLD-APND,SLAP_SCNW-APND\n",
      "http://oasis.caiso.com/oasisapi/SingleZip?queryname=PRC_LMP&resultformat=6&startdatetime=20190201T07:00-0000&enddatetime=20190228T07:00-0000&version=1&market_run_id=DAM&node=SLAP_SCEC-APND,SLAP_SCEN-APND,SLAP_SCEW-APND,SLAP_SCHD-APND,SLAP_SCLD-APND,SLAP_SCNW-APND\n",
      "http://oasis.caiso.com/oasisapi/SingleZip?queryname=PRC_LMP&resultformat=6&startdatetime=20190301T07:00-0000&enddatetime=20190331T07:00-0000&version=1&market_run_id=DAM&node=SLAP_SCEC-APND,SLAP_SCEN-APND,SLAP_SCEW-APND,SLAP_SCHD-APND,SLAP_SCLD-APND,SLAP_SCNW-APND\n",
      "http://oasis.caiso.com/oasisapi/SingleZip?queryname=PRC_LMP&resultformat=6&startdatetime=20190401T07:00-0000&enddatetime=20190430T07:00-0000&version=1&market_run_id=DAM&node=SLAP_SCEC-APND,SLAP_SCEN-APND,SLAP_SCEW-APND,SLAP_SCHD-APND,SLAP_SCLD-APND,SLAP_SCNW-APND\n",
      "http://oasis.caiso.com/oasisapi/SingleZip?queryname=PRC_LMP&resultformat=6&startdatetime=20190501T07:00-0000&enddatetime=20190531T07:00-0000&version=1&market_run_id=DAM&node=SLAP_SCEC-APND,SLAP_SCEN-APND,SLAP_SCEW-APND,SLAP_SCHD-APND,SLAP_SCLD-APND,SLAP_SCNW-APND\n",
      "http://oasis.caiso.com/oasisapi/SingleZip?queryname=PRC_LMP&resultformat=6&startdatetime=20190601T07:00-0000&enddatetime=20190630T07:00-0000&version=1&market_run_id=DAM&node=SLAP_SCEC-APND,SLAP_SCEN-APND,SLAP_SCEW-APND,SLAP_SCHD-APND,SLAP_SCLD-APND,SLAP_SCNW-APND\n",
      "http://oasis.caiso.com/oasisapi/SingleZip?queryname=PRC_LMP&resultformat=6&startdatetime=20190701T07:00-0000&enddatetime=20190731T07:00-0000&version=1&market_run_id=DAM&node=SLAP_SCEC-APND,SLAP_SCEN-APND,SLAP_SCEW-APND,SLAP_SCHD-APND,SLAP_SCLD-APND,SLAP_SCNW-APND\n",
      "http://oasis.caiso.com/oasisapi/SingleZip?queryname=PRC_LMP&resultformat=6&startdatetime=20190801T07:00-0000&enddatetime=20190831T07:00-0000&version=1&market_run_id=DAM&node=SLAP_SCEC-APND,SLAP_SCEN-APND,SLAP_SCEW-APND,SLAP_SCHD-APND,SLAP_SCLD-APND,SLAP_SCNW-APND\n",
      "http://oasis.caiso.com/oasisapi/SingleZip?queryname=PRC_LMP&resultformat=6&startdatetime=20190901T07:00-0000&enddatetime=20190930T07:00-0000&version=1&market_run_id=DAM&node=SLAP_SCEC-APND,SLAP_SCEN-APND,SLAP_SCEW-APND,SLAP_SCHD-APND,SLAP_SCLD-APND,SLAP_SCNW-APND\n",
      "http://oasis.caiso.com/oasisapi/SingleZip?queryname=PRC_LMP&resultformat=6&startdatetime=20191001T07:00-0000&enddatetime=20191031T07:00-0000&version=1&market_run_id=DAM&node=SLAP_SCEC-APND,SLAP_SCEN-APND,SLAP_SCEW-APND,SLAP_SCHD-APND,SLAP_SCLD-APND,SLAP_SCNW-APND\n",
      "http://oasis.caiso.com/oasisapi/SingleZip?queryname=PRC_LMP&resultformat=6&startdatetime=20191101T07:00-0000&enddatetime=20191130T07:00-0000&version=1&market_run_id=DAM&node=SLAP_SCEC-APND,SLAP_SCEN-APND,SLAP_SCEW-APND,SLAP_SCHD-APND,SLAP_SCLD-APND,SLAP_SCNW-APND\n",
      "http://oasis.caiso.com/oasisapi/SingleZip?queryname=PRC_LMP&resultformat=6&startdatetime=20191201T07:00-0000&enddatetime=20191231T07:00-0000&version=1&market_run_id=DAM&node=SLAP_SCEC-APND,SLAP_SCEN-APND,SLAP_SCEW-APND,SLAP_SCHD-APND,SLAP_SCLD-APND,SLAP_SCNW-APND\n"
     ]
    }
   ],
   "source": [
    "extract_monthly_data(2019)"
   ]
  },
  {
   "cell_type": "code",
   "execution_count": 80,
   "metadata": {},
   "outputs": [
    {
     "name": "stderr",
     "output_type": "stream",
     "text": [
      "/Users/jaromeleslie/anaconda3/lib/python3.7/site-packages/ipykernel_launcher.py:6: DeprecationWarning: use options instead of chrome_options\n",
      "  \n"
     ]
    },
    {
     "name": "stdout",
     "output_type": "stream",
     "text": [
      "http://oasis.caiso.com/oasisapi/SingleZip?queryname=PRC_LMP&resultformat=6&startdatetime=20180101T07:00-0000&enddatetime=20180131T07:00-0000&version=1&market_run_id=DAM&node=SLAP_SCEC-APND,SLAP_SCEN-APND,SLAP_SCEW-APND,SLAP_SCHD-APND,SLAP_SCLD-APND,SLAP_SCNW-APND\n",
      "http://oasis.caiso.com/oasisapi/SingleZip?queryname=PRC_LMP&resultformat=6&startdatetime=20180201T07:00-0000&enddatetime=20180228T07:00-0000&version=1&market_run_id=DAM&node=SLAP_SCEC-APND,SLAP_SCEN-APND,SLAP_SCEW-APND,SLAP_SCHD-APND,SLAP_SCLD-APND,SLAP_SCNW-APND\n",
      "http://oasis.caiso.com/oasisapi/SingleZip?queryname=PRC_LMP&resultformat=6&startdatetime=20180301T07:00-0000&enddatetime=20180331T07:00-0000&version=1&market_run_id=DAM&node=SLAP_SCEC-APND,SLAP_SCEN-APND,SLAP_SCEW-APND,SLAP_SCHD-APND,SLAP_SCLD-APND,SLAP_SCNW-APND\n",
      "http://oasis.caiso.com/oasisapi/SingleZip?queryname=PRC_LMP&resultformat=6&startdatetime=20180401T07:00-0000&enddatetime=20180430T07:00-0000&version=1&market_run_id=DAM&node=SLAP_SCEC-APND,SLAP_SCEN-APND,SLAP_SCEW-APND,SLAP_SCHD-APND,SLAP_SCLD-APND,SLAP_SCNW-APND\n",
      "http://oasis.caiso.com/oasisapi/SingleZip?queryname=PRC_LMP&resultformat=6&startdatetime=20180501T07:00-0000&enddatetime=20180531T07:00-0000&version=1&market_run_id=DAM&node=SLAP_SCEC-APND,SLAP_SCEN-APND,SLAP_SCEW-APND,SLAP_SCHD-APND,SLAP_SCLD-APND,SLAP_SCNW-APND\n",
      "http://oasis.caiso.com/oasisapi/SingleZip?queryname=PRC_LMP&resultformat=6&startdatetime=20180601T07:00-0000&enddatetime=20180630T07:00-0000&version=1&market_run_id=DAM&node=SLAP_SCEC-APND,SLAP_SCEN-APND,SLAP_SCEW-APND,SLAP_SCHD-APND,SLAP_SCLD-APND,SLAP_SCNW-APND\n",
      "http://oasis.caiso.com/oasisapi/SingleZip?queryname=PRC_LMP&resultformat=6&startdatetime=20180701T07:00-0000&enddatetime=20180731T07:00-0000&version=1&market_run_id=DAM&node=SLAP_SCEC-APND,SLAP_SCEN-APND,SLAP_SCEW-APND,SLAP_SCHD-APND,SLAP_SCLD-APND,SLAP_SCNW-APND\n",
      "http://oasis.caiso.com/oasisapi/SingleZip?queryname=PRC_LMP&resultformat=6&startdatetime=20180801T07:00-0000&enddatetime=20180831T07:00-0000&version=1&market_run_id=DAM&node=SLAP_SCEC-APND,SLAP_SCEN-APND,SLAP_SCEW-APND,SLAP_SCHD-APND,SLAP_SCLD-APND,SLAP_SCNW-APND\n",
      "http://oasis.caiso.com/oasisapi/SingleZip?queryname=PRC_LMP&resultformat=6&startdatetime=20180901T07:00-0000&enddatetime=20180930T07:00-0000&version=1&market_run_id=DAM&node=SLAP_SCEC-APND,SLAP_SCEN-APND,SLAP_SCEW-APND,SLAP_SCHD-APND,SLAP_SCLD-APND,SLAP_SCNW-APND\n",
      "http://oasis.caiso.com/oasisapi/SingleZip?queryname=PRC_LMP&resultformat=6&startdatetime=20181001T07:00-0000&enddatetime=20181031T07:00-0000&version=1&market_run_id=DAM&node=SLAP_SCEC-APND,SLAP_SCEN-APND,SLAP_SCEW-APND,SLAP_SCHD-APND,SLAP_SCLD-APND,SLAP_SCNW-APND\n",
      "http://oasis.caiso.com/oasisapi/SingleZip?queryname=PRC_LMP&resultformat=6&startdatetime=20181101T07:00-0000&enddatetime=20181130T07:00-0000&version=1&market_run_id=DAM&node=SLAP_SCEC-APND,SLAP_SCEN-APND,SLAP_SCEW-APND,SLAP_SCHD-APND,SLAP_SCLD-APND,SLAP_SCNW-APND\n",
      "http://oasis.caiso.com/oasisapi/SingleZip?queryname=PRC_LMP&resultformat=6&startdatetime=20181201T07:00-0000&enddatetime=20181231T07:00-0000&version=1&market_run_id=DAM&node=SLAP_SCEC-APND,SLAP_SCEN-APND,SLAP_SCEW-APND,SLAP_SCHD-APND,SLAP_SCLD-APND,SLAP_SCNW-APND\n"
     ]
    }
   ],
   "source": [
    "extract_monthly_data(2018)\n",
    "    "
   ]
  },
  {
   "cell_type": "code",
   "execution_count": 81,
   "metadata": {},
   "outputs": [
    {
     "name": "stderr",
     "output_type": "stream",
     "text": [
      "/Users/jaromeleslie/anaconda3/lib/python3.7/site-packages/ipykernel_launcher.py:6: DeprecationWarning: use options instead of chrome_options\n",
      "  \n"
     ]
    },
    {
     "name": "stdout",
     "output_type": "stream",
     "text": [
      "http://oasis.caiso.com/oasisapi/SingleZip?queryname=PRC_LMP&resultformat=6&startdatetime=20170101T07:00-0000&enddatetime=20170131T07:00-0000&version=1&market_run_id=DAM&node=SLAP_SCEC-APND,SLAP_SCEN-APND,SLAP_SCEW-APND,SLAP_SCHD-APND,SLAP_SCLD-APND,SLAP_SCNW-APND\n",
      "http://oasis.caiso.com/oasisapi/SingleZip?queryname=PRC_LMP&resultformat=6&startdatetime=20170201T07:00-0000&enddatetime=20170228T07:00-0000&version=1&market_run_id=DAM&node=SLAP_SCEC-APND,SLAP_SCEN-APND,SLAP_SCEW-APND,SLAP_SCHD-APND,SLAP_SCLD-APND,SLAP_SCNW-APND\n",
      "http://oasis.caiso.com/oasisapi/SingleZip?queryname=PRC_LMP&resultformat=6&startdatetime=20170301T07:00-0000&enddatetime=20170331T07:00-0000&version=1&market_run_id=DAM&node=SLAP_SCEC-APND,SLAP_SCEN-APND,SLAP_SCEW-APND,SLAP_SCHD-APND,SLAP_SCLD-APND,SLAP_SCNW-APND\n",
      "http://oasis.caiso.com/oasisapi/SingleZip?queryname=PRC_LMP&resultformat=6&startdatetime=20170401T07:00-0000&enddatetime=20170430T07:00-0000&version=1&market_run_id=DAM&node=SLAP_SCEC-APND,SLAP_SCEN-APND,SLAP_SCEW-APND,SLAP_SCHD-APND,SLAP_SCLD-APND,SLAP_SCNW-APND\n",
      "http://oasis.caiso.com/oasisapi/SingleZip?queryname=PRC_LMP&resultformat=6&startdatetime=20170501T07:00-0000&enddatetime=20170531T07:00-0000&version=1&market_run_id=DAM&node=SLAP_SCEC-APND,SLAP_SCEN-APND,SLAP_SCEW-APND,SLAP_SCHD-APND,SLAP_SCLD-APND,SLAP_SCNW-APND\n",
      "http://oasis.caiso.com/oasisapi/SingleZip?queryname=PRC_LMP&resultformat=6&startdatetime=20170601T07:00-0000&enddatetime=20170630T07:00-0000&version=1&market_run_id=DAM&node=SLAP_SCEC-APND,SLAP_SCEN-APND,SLAP_SCEW-APND,SLAP_SCHD-APND,SLAP_SCLD-APND,SLAP_SCNW-APND\n",
      "http://oasis.caiso.com/oasisapi/SingleZip?queryname=PRC_LMP&resultformat=6&startdatetime=20170701T07:00-0000&enddatetime=20170731T07:00-0000&version=1&market_run_id=DAM&node=SLAP_SCEC-APND,SLAP_SCEN-APND,SLAP_SCEW-APND,SLAP_SCHD-APND,SLAP_SCLD-APND,SLAP_SCNW-APND\n",
      "http://oasis.caiso.com/oasisapi/SingleZip?queryname=PRC_LMP&resultformat=6&startdatetime=20170801T07:00-0000&enddatetime=20170831T07:00-0000&version=1&market_run_id=DAM&node=SLAP_SCEC-APND,SLAP_SCEN-APND,SLAP_SCEW-APND,SLAP_SCHD-APND,SLAP_SCLD-APND,SLAP_SCNW-APND\n",
      "http://oasis.caiso.com/oasisapi/SingleZip?queryname=PRC_LMP&resultformat=6&startdatetime=20170901T07:00-0000&enddatetime=20170930T07:00-0000&version=1&market_run_id=DAM&node=SLAP_SCEC-APND,SLAP_SCEN-APND,SLAP_SCEW-APND,SLAP_SCHD-APND,SLAP_SCLD-APND,SLAP_SCNW-APND\n",
      "http://oasis.caiso.com/oasisapi/SingleZip?queryname=PRC_LMP&resultformat=6&startdatetime=20171001T07:00-0000&enddatetime=20171031T07:00-0000&version=1&market_run_id=DAM&node=SLAP_SCEC-APND,SLAP_SCEN-APND,SLAP_SCEW-APND,SLAP_SCHD-APND,SLAP_SCLD-APND,SLAP_SCNW-APND\n",
      "http://oasis.caiso.com/oasisapi/SingleZip?queryname=PRC_LMP&resultformat=6&startdatetime=20171101T07:00-0000&enddatetime=20171130T07:00-0000&version=1&market_run_id=DAM&node=SLAP_SCEC-APND,SLAP_SCEN-APND,SLAP_SCEW-APND,SLAP_SCHD-APND,SLAP_SCLD-APND,SLAP_SCNW-APND\n",
      "http://oasis.caiso.com/oasisapi/SingleZip?queryname=PRC_LMP&resultformat=6&startdatetime=20171201T07:00-0000&enddatetime=20171231T07:00-0000&version=1&market_run_id=DAM&node=SLAP_SCEC-APND,SLAP_SCEN-APND,SLAP_SCEW-APND,SLAP_SCHD-APND,SLAP_SCLD-APND,SLAP_SCNW-APND\n"
     ]
    }
   ],
   "source": [
    "extract_monthly_data(2017)"
   ]
  },
  {
   "cell_type": "code",
   "execution_count": 73,
   "metadata": {},
   "outputs": [
    {
     "data": {
      "text/html": [
       "<div>\n",
       "<style scoped>\n",
       "    .dataframe tbody tr th:only-of-type {\n",
       "        vertical-align: middle;\n",
       "    }\n",
       "\n",
       "    .dataframe tbody tr th {\n",
       "        vertical-align: top;\n",
       "    }\n",
       "\n",
       "    .dataframe thead th {\n",
       "        text-align: right;\n",
       "    }\n",
       "</style>\n",
       "<table border=\"1\" class=\"dataframe\">\n",
       "  <thead>\n",
       "    <tr style=\"text-align: right;\">\n",
       "      <th></th>\n",
       "      <th>OPR_HR</th>\n",
       "      <th>OPR_INTERVAL</th>\n",
       "      <th>POS</th>\n",
       "      <th>MW</th>\n",
       "      <th>GROUP</th>\n",
       "    </tr>\n",
       "  </thead>\n",
       "  <tbody>\n",
       "    <tr>\n",
       "      <th>count</th>\n",
       "      <td>169552.000000</td>\n",
       "      <td>169552.0</td>\n",
       "      <td>169552.0</td>\n",
       "      <td>169552.000000</td>\n",
       "      <td>169552.000000</td>\n",
       "    </tr>\n",
       "    <tr>\n",
       "      <th>mean</th>\n",
       "      <td>12.503539</td>\n",
       "      <td>0.0</td>\n",
       "      <td>0.0</td>\n",
       "      <td>17.892548</td>\n",
       "      <td>302.130868</td>\n",
       "    </tr>\n",
       "    <tr>\n",
       "      <th>std</th>\n",
       "      <td>6.921413</td>\n",
       "      <td>0.0</td>\n",
       "      <td>0.0</td>\n",
       "      <td>25.012898</td>\n",
       "      <td>171.066773</td>\n",
       "    </tr>\n",
       "    <tr>\n",
       "      <th>min</th>\n",
       "      <td>1.000000</td>\n",
       "      <td>0.0</td>\n",
       "      <td>0.0</td>\n",
       "      <td>-101.909740</td>\n",
       "      <td>1.000000</td>\n",
       "    </tr>\n",
       "    <tr>\n",
       "      <th>25%</th>\n",
       "      <td>7.000000</td>\n",
       "      <td>0.0</td>\n",
       "      <td>0.0</td>\n",
       "      <td>-0.032743</td>\n",
       "      <td>154.000000</td>\n",
       "    </tr>\n",
       "    <tr>\n",
       "      <th>50%</th>\n",
       "      <td>13.000000</td>\n",
       "      <td>0.0</td>\n",
       "      <td>0.0</td>\n",
       "      <td>1.472930</td>\n",
       "      <td>302.000000</td>\n",
       "    </tr>\n",
       "    <tr>\n",
       "      <th>75%</th>\n",
       "      <td>19.000000</td>\n",
       "      <td>0.0</td>\n",
       "      <td>0.0</td>\n",
       "      <td>33.246575</td>\n",
       "      <td>450.000000</td>\n",
       "    </tr>\n",
       "    <tr>\n",
       "      <th>max</th>\n",
       "      <td>25.000000</td>\n",
       "      <td>0.0</td>\n",
       "      <td>0.0</td>\n",
       "      <td>256.260500</td>\n",
       "      <td>620.000000</td>\n",
       "    </tr>\n",
       "  </tbody>\n",
       "</table>\n",
       "</div>"
      ],
      "text/plain": [
       "              OPR_HR  OPR_INTERVAL       POS             MW          GROUP\n",
       "count  169552.000000      169552.0  169552.0  169552.000000  169552.000000\n",
       "mean       12.503539           0.0       0.0      17.892548     302.130868\n",
       "std         6.921413           0.0       0.0      25.012898     171.066773\n",
       "min         1.000000           0.0       0.0    -101.909740       1.000000\n",
       "25%         7.000000           0.0       0.0      -0.032743     154.000000\n",
       "50%        13.000000           0.0       0.0       1.472930     302.000000\n",
       "75%        19.000000           0.0       0.0      33.246575     450.000000\n",
       "max        25.000000           0.0       0.0     256.260500     620.000000"
      ]
     },
     "execution_count": 73,
     "metadata": {},
     "output_type": "execute_result"
    }
   ],
   "source": [
    "combined_csvs.describe()"
   ]
  },
  {
   "cell_type": "code",
   "execution_count": 75,
   "metadata": {},
   "outputs": [
    {
     "data": {
      "text/plain": [
       "357"
      ]
     },
     "execution_count": 75,
     "metadata": {},
     "output_type": "execute_result"
    }
   ],
   "source": [
    "len(combined_csvs['OPR_DT'].unique())"
   ]
  },
  {
   "cell_type": "code",
   "execution_count": 72,
   "metadata": {},
   "outputs": [
    {
     "data": {
      "text/html": [
       "<div>\n",
       "<style scoped>\n",
       "    .dataframe tbody tr th:only-of-type {\n",
       "        vertical-align: middle;\n",
       "    }\n",
       "\n",
       "    .dataframe tbody tr th {\n",
       "        vertical-align: top;\n",
       "    }\n",
       "\n",
       "    .dataframe thead th {\n",
       "        text-align: right;\n",
       "    }\n",
       "</style>\n",
       "<table border=\"1\" class=\"dataframe\">\n",
       "  <thead>\n",
       "    <tr style=\"text-align: right;\">\n",
       "      <th></th>\n",
       "      <th>INTERVALSTARTTIME_GMT</th>\n",
       "      <th>INTERVALENDTIME_GMT</th>\n",
       "      <th>OPR_DT</th>\n",
       "      <th>OPR_HR</th>\n",
       "      <th>OPR_INTERVAL</th>\n",
       "      <th>NODE_ID_XML</th>\n",
       "      <th>NODE_ID</th>\n",
       "      <th>NODE</th>\n",
       "      <th>MARKET_RUN_ID</th>\n",
       "      <th>LMP_TYPE</th>\n",
       "      <th>XML_DATA_ITEM</th>\n",
       "      <th>PNODE_RESMRID</th>\n",
       "      <th>GRP_TYPE</th>\n",
       "      <th>POS</th>\n",
       "      <th>MW</th>\n",
       "      <th>GROUP</th>\n",
       "    </tr>\n",
       "  </thead>\n",
       "  <tbody>\n",
       "    <tr>\n",
       "      <th>0</th>\n",
       "      <td>2019-03-01T07:00:00-00:00</td>\n",
       "      <td>2019-03-01T08:00:00-00:00</td>\n",
       "      <td>2019-02-28</td>\n",
       "      <td>24</td>\n",
       "      <td>0</td>\n",
       "      <td>SLAP_SCEC-APND</td>\n",
       "      <td>SLAP_SCEC-APND</td>\n",
       "      <td>SLAP_SCEC-APND</td>\n",
       "      <td>DAM</td>\n",
       "      <td>LMP</td>\n",
       "      <td>LMP_PRC</td>\n",
       "      <td>SLAP_SCEC-APND</td>\n",
       "      <td>ALL_APNODES</td>\n",
       "      <td>0</td>\n",
       "      <td>42.85454</td>\n",
       "      <td>1</td>\n",
       "    </tr>\n",
       "    <tr>\n",
       "      <th>4</th>\n",
       "      <td>2019-03-01T07:00:00-00:00</td>\n",
       "      <td>2019-03-01T08:00:00-00:00</td>\n",
       "      <td>2019-02-28</td>\n",
       "      <td>24</td>\n",
       "      <td>0</td>\n",
       "      <td>SLAP_SCEN-APND</td>\n",
       "      <td>SLAP_SCEN-APND</td>\n",
       "      <td>SLAP_SCEN-APND</td>\n",
       "      <td>DAM</td>\n",
       "      <td>LMP</td>\n",
       "      <td>LMP_PRC</td>\n",
       "      <td>SLAP_SCEN-APND</td>\n",
       "      <td>ALL_APNODES</td>\n",
       "      <td>0</td>\n",
       "      <td>42.53840</td>\n",
       "      <td>5</td>\n",
       "    </tr>\n",
       "    <tr>\n",
       "      <th>8</th>\n",
       "      <td>2019-03-01T07:00:00-00:00</td>\n",
       "      <td>2019-03-01T08:00:00-00:00</td>\n",
       "      <td>2019-02-28</td>\n",
       "      <td>24</td>\n",
       "      <td>0</td>\n",
       "      <td>SLAP_SCEW-APND</td>\n",
       "      <td>SLAP_SCEW-APND</td>\n",
       "      <td>SLAP_SCEW-APND</td>\n",
       "      <td>DAM</td>\n",
       "      <td>LMP</td>\n",
       "      <td>LMP_PRC</td>\n",
       "      <td>SLAP_SCEW-APND</td>\n",
       "      <td>ALL_APNODES</td>\n",
       "      <td>0</td>\n",
       "      <td>44.06128</td>\n",
       "      <td>9</td>\n",
       "    </tr>\n",
       "    <tr>\n",
       "      <th>12</th>\n",
       "      <td>2019-03-01T07:00:00-00:00</td>\n",
       "      <td>2019-03-01T08:00:00-00:00</td>\n",
       "      <td>2019-02-28</td>\n",
       "      <td>24</td>\n",
       "      <td>0</td>\n",
       "      <td>SLAP_SCHD-APND</td>\n",
       "      <td>SLAP_SCHD-APND</td>\n",
       "      <td>SLAP_SCHD-APND</td>\n",
       "      <td>DAM</td>\n",
       "      <td>LMP</td>\n",
       "      <td>LMP_PRC</td>\n",
       "      <td>SLAP_SCHD-APND</td>\n",
       "      <td>ALL_APNODES</td>\n",
       "      <td>0</td>\n",
       "      <td>42.59531</td>\n",
       "      <td>13</td>\n",
       "    </tr>\n",
       "    <tr>\n",
       "      <th>16</th>\n",
       "      <td>2019-03-01T07:00:00-00:00</td>\n",
       "      <td>2019-03-01T08:00:00-00:00</td>\n",
       "      <td>2019-02-28</td>\n",
       "      <td>24</td>\n",
       "      <td>0</td>\n",
       "      <td>SLAP_SCLD-APND</td>\n",
       "      <td>SLAP_SCLD-APND</td>\n",
       "      <td>SLAP_SCLD-APND</td>\n",
       "      <td>DAM</td>\n",
       "      <td>LMP</td>\n",
       "      <td>LMP_PRC</td>\n",
       "      <td>SLAP_SCLD-APND</td>\n",
       "      <td>ALL_APNODES</td>\n",
       "      <td>0</td>\n",
       "      <td>37.94885</td>\n",
       "      <td>17</td>\n",
       "    </tr>\n",
       "    <tr>\n",
       "      <th>...</th>\n",
       "      <td>...</td>\n",
       "      <td>...</td>\n",
       "      <td>...</td>\n",
       "      <td>...</td>\n",
       "      <td>...</td>\n",
       "      <td>...</td>\n",
       "      <td>...</td>\n",
       "      <td>...</td>\n",
       "      <td>...</td>\n",
       "      <td>...</td>\n",
       "      <td>...</td>\n",
       "      <td>...</td>\n",
       "      <td>...</td>\n",
       "      <td>...</td>\n",
       "      <td>...</td>\n",
       "      <td>...</td>\n",
       "    </tr>\n",
       "    <tr>\n",
       "      <th>13843</th>\n",
       "      <td>2019-09-29T14:00:00-00:00</td>\n",
       "      <td>2019-09-29T15:00:00-00:00</td>\n",
       "      <td>2019-09-29</td>\n",
       "      <td>8</td>\n",
       "      <td>0</td>\n",
       "      <td>SLAP_SCLD-APND</td>\n",
       "      <td>SLAP_SCLD-APND</td>\n",
       "      <td>SLAP_SCLD-APND</td>\n",
       "      <td>DAM</td>\n",
       "      <td>LMP</td>\n",
       "      <td>LMP_PRC</td>\n",
       "      <td>SLAP_SCLD-APND</td>\n",
       "      <td>ALL_APNODES</td>\n",
       "      <td>0</td>\n",
       "      <td>26.62839</td>\n",
       "      <td>577</td>\n",
       "    </tr>\n",
       "    <tr>\n",
       "      <th>13844</th>\n",
       "      <td>2019-09-29T13:00:00-00:00</td>\n",
       "      <td>2019-09-29T14:00:00-00:00</td>\n",
       "      <td>2019-09-29</td>\n",
       "      <td>7</td>\n",
       "      <td>0</td>\n",
       "      <td>SLAP_SCLD-APND</td>\n",
       "      <td>SLAP_SCLD-APND</td>\n",
       "      <td>SLAP_SCLD-APND</td>\n",
       "      <td>DAM</td>\n",
       "      <td>LMP</td>\n",
       "      <td>LMP_PRC</td>\n",
       "      <td>SLAP_SCLD-APND</td>\n",
       "      <td>ALL_APNODES</td>\n",
       "      <td>0</td>\n",
       "      <td>31.35345</td>\n",
       "      <td>577</td>\n",
       "    </tr>\n",
       "    <tr>\n",
       "      <th>13845</th>\n",
       "      <td>2019-09-30T03:00:00-00:00</td>\n",
       "      <td>2019-09-30T04:00:00-00:00</td>\n",
       "      <td>2019-09-29</td>\n",
       "      <td>21</td>\n",
       "      <td>0</td>\n",
       "      <td>SLAP_SCLD-APND</td>\n",
       "      <td>SLAP_SCLD-APND</td>\n",
       "      <td>SLAP_SCLD-APND</td>\n",
       "      <td>DAM</td>\n",
       "      <td>LMP</td>\n",
       "      <td>LMP_PRC</td>\n",
       "      <td>SLAP_SCLD-APND</td>\n",
       "      <td>ALL_APNODES</td>\n",
       "      <td>0</td>\n",
       "      <td>41.73451</td>\n",
       "      <td>577</td>\n",
       "    </tr>\n",
       "    <tr>\n",
       "      <th>13846</th>\n",
       "      <td>2019-09-30T00:00:00-00:00</td>\n",
       "      <td>2019-09-30T01:00:00-00:00</td>\n",
       "      <td>2019-09-29</td>\n",
       "      <td>18</td>\n",
       "      <td>0</td>\n",
       "      <td>SLAP_SCLD-APND</td>\n",
       "      <td>SLAP_SCLD-APND</td>\n",
       "      <td>SLAP_SCLD-APND</td>\n",
       "      <td>DAM</td>\n",
       "      <td>LMP</td>\n",
       "      <td>LMP_PRC</td>\n",
       "      <td>SLAP_SCLD-APND</td>\n",
       "      <td>ALL_APNODES</td>\n",
       "      <td>0</td>\n",
       "      <td>31.31938</td>\n",
       "      <td>577</td>\n",
       "    </tr>\n",
       "    <tr>\n",
       "      <th>13847</th>\n",
       "      <td>2019-09-29T12:00:00-00:00</td>\n",
       "      <td>2019-09-29T13:00:00-00:00</td>\n",
       "      <td>2019-09-29</td>\n",
       "      <td>6</td>\n",
       "      <td>0</td>\n",
       "      <td>SLAP_SCLD-APND</td>\n",
       "      <td>SLAP_SCLD-APND</td>\n",
       "      <td>SLAP_SCLD-APND</td>\n",
       "      <td>DAM</td>\n",
       "      <td>LMP</td>\n",
       "      <td>LMP_PRC</td>\n",
       "      <td>SLAP_SCLD-APND</td>\n",
       "      <td>ALL_APNODES</td>\n",
       "      <td>0</td>\n",
       "      <td>31.00264</td>\n",
       "      <td>577</td>\n",
       "    </tr>\n",
       "  </tbody>\n",
       "</table>\n",
       "<p>42360 rows × 16 columns</p>\n",
       "</div>"
      ],
      "text/plain": [
       "           INTERVALSTARTTIME_GMT        INTERVALENDTIME_GMT      OPR_DT  \\\n",
       "0      2019-03-01T07:00:00-00:00  2019-03-01T08:00:00-00:00  2019-02-28   \n",
       "4      2019-03-01T07:00:00-00:00  2019-03-01T08:00:00-00:00  2019-02-28   \n",
       "8      2019-03-01T07:00:00-00:00  2019-03-01T08:00:00-00:00  2019-02-28   \n",
       "12     2019-03-01T07:00:00-00:00  2019-03-01T08:00:00-00:00  2019-02-28   \n",
       "16     2019-03-01T07:00:00-00:00  2019-03-01T08:00:00-00:00  2019-02-28   \n",
       "...                          ...                        ...         ...   \n",
       "13843  2019-09-29T14:00:00-00:00  2019-09-29T15:00:00-00:00  2019-09-29   \n",
       "13844  2019-09-29T13:00:00-00:00  2019-09-29T14:00:00-00:00  2019-09-29   \n",
       "13845  2019-09-30T03:00:00-00:00  2019-09-30T04:00:00-00:00  2019-09-29   \n",
       "13846  2019-09-30T00:00:00-00:00  2019-09-30T01:00:00-00:00  2019-09-29   \n",
       "13847  2019-09-29T12:00:00-00:00  2019-09-29T13:00:00-00:00  2019-09-29   \n",
       "\n",
       "       OPR_HR  OPR_INTERVAL     NODE_ID_XML         NODE_ID            NODE  \\\n",
       "0          24             0  SLAP_SCEC-APND  SLAP_SCEC-APND  SLAP_SCEC-APND   \n",
       "4          24             0  SLAP_SCEN-APND  SLAP_SCEN-APND  SLAP_SCEN-APND   \n",
       "8          24             0  SLAP_SCEW-APND  SLAP_SCEW-APND  SLAP_SCEW-APND   \n",
       "12         24             0  SLAP_SCHD-APND  SLAP_SCHD-APND  SLAP_SCHD-APND   \n",
       "16         24             0  SLAP_SCLD-APND  SLAP_SCLD-APND  SLAP_SCLD-APND   \n",
       "...       ...           ...             ...             ...             ...   \n",
       "13843       8             0  SLAP_SCLD-APND  SLAP_SCLD-APND  SLAP_SCLD-APND   \n",
       "13844       7             0  SLAP_SCLD-APND  SLAP_SCLD-APND  SLAP_SCLD-APND   \n",
       "13845      21             0  SLAP_SCLD-APND  SLAP_SCLD-APND  SLAP_SCLD-APND   \n",
       "13846      18             0  SLAP_SCLD-APND  SLAP_SCLD-APND  SLAP_SCLD-APND   \n",
       "13847       6             0  SLAP_SCLD-APND  SLAP_SCLD-APND  SLAP_SCLD-APND   \n",
       "\n",
       "      MARKET_RUN_ID LMP_TYPE XML_DATA_ITEM   PNODE_RESMRID     GRP_TYPE  POS  \\\n",
       "0               DAM      LMP       LMP_PRC  SLAP_SCEC-APND  ALL_APNODES    0   \n",
       "4               DAM      LMP       LMP_PRC  SLAP_SCEN-APND  ALL_APNODES    0   \n",
       "8               DAM      LMP       LMP_PRC  SLAP_SCEW-APND  ALL_APNODES    0   \n",
       "12              DAM      LMP       LMP_PRC  SLAP_SCHD-APND  ALL_APNODES    0   \n",
       "16              DAM      LMP       LMP_PRC  SLAP_SCLD-APND  ALL_APNODES    0   \n",
       "...             ...      ...           ...             ...          ...  ...   \n",
       "13843           DAM      LMP       LMP_PRC  SLAP_SCLD-APND  ALL_APNODES    0   \n",
       "13844           DAM      LMP       LMP_PRC  SLAP_SCLD-APND  ALL_APNODES    0   \n",
       "13845           DAM      LMP       LMP_PRC  SLAP_SCLD-APND  ALL_APNODES    0   \n",
       "13846           DAM      LMP       LMP_PRC  SLAP_SCLD-APND  ALL_APNODES    0   \n",
       "13847           DAM      LMP       LMP_PRC  SLAP_SCLD-APND  ALL_APNODES    0   \n",
       "\n",
       "             MW  GROUP  \n",
       "0      42.85454      1  \n",
       "4      42.53840      5  \n",
       "8      44.06128      9  \n",
       "12     42.59531     13  \n",
       "16     37.94885     17  \n",
       "...         ...    ...  \n",
       "13843  26.62839    577  \n",
       "13844  31.35345    577  \n",
       "13845  41.73451    577  \n",
       "13846  31.31938    577  \n",
       "13847  31.00264    577  \n",
       "\n",
       "[42360 rows x 16 columns]"
      ]
     },
     "execution_count": 72,
     "metadata": {},
     "output_type": "execute_result"
    }
   ],
   "source": [
    "combined_csvs.query('XML_DATA_ITEM == \"LMP_PRC\"')"
   ]
  },
  {
   "cell_type": "code",
   "execution_count": 68,
   "metadata": {},
   "outputs": [
    {
     "data": {
      "text/plain": [
       "array(['SLAP_SCEC-APND', 'SLAP_SCEN-APND', 'SLAP_SCEW-APND',\n",
       "       'SLAP_SCHD-APND', 'SLAP_SCLD-APND'], dtype=object)"
      ]
     },
     "execution_count": 68,
     "metadata": {},
     "output_type": "execute_result"
    }
   ],
   "source": [
    "combined_csvs['NODE_ID'].unique()"
   ]
  },
  {
   "cell_type": "code",
   "execution_count": null,
   "metadata": {},
   "outputs": [],
   "source": []
  },
  {
   "cell_type": "code",
   "execution_count": 14,
   "metadata": {},
   "outputs": [],
   "source": [
    "def extract_monthly_5min_data(year, node):\n",
    "    chrome_options = webdriver.ChromeOptions()\n",
    "    prefs = {'download.default_directory' : '/Users/jaromeleslie/Documents/MDS/Personal_projects/CAISO_oasis_extractor/data/5min/'+str(year)}\n",
    "    chrome_options.add_experimental_option('prefs', prefs)\n",
    "\n",
    "    driver = webdriver.Chrome(chrome_options=chrome_options)\n",
    "    for month in month_dict.keys():\n",
    "        api_call = \"http://oasis.caiso.com/oasisapi/SingleZip?queryname=PRC_INTVL_LMP&resultformat=6&startdatetime=\" + str(year)+month_dict[month][0] + \"T07:00-0000&enddatetime=\" +  str(year)+month_dict[month][1] + \"T07:00-0000&version=1&market_run_id=HASP&node=\" + node\n",
    "        print(api_call)\n",
    "        driver.get(api_call)\n",
    "        time.sleep(15)\n",
    "        \n",
    "    zip_files = glob.glob('../data/5min/' +str(year)+'/*.zip')\n",
    "    for zip_filename in zip_files:\n",
    "        dir_name = os.path.splitext(zip_filename)[0]\n",
    "        os.mkdir(dir_name)\n",
    "        zip_handler = zp.ZipFile(zip_filename, \"r\")\n",
    "        zip_handler.extractall(dir_name)\n",
    "\n",
    "    # path = dir_name\n",
    "    csv_files = glob.glob('../data/5min/' + str(year) +'/*/*.csv')\n",
    "\n",
    "    entries =[]\n",
    "\n",
    "    for csv in csv_files:\n",
    "        entries.append(pd.read_csv(csv))\n",
    "\n",
    "\n",
    "    combined_csvs = pd.concat(entries)\n",
    "    combined_csvs.to_csv('../data/5min/' + str(year) +'/'+ str(year) + node +'.csv')   "
   ]
  },
  {
   "cell_type": "code",
   "execution_count": 12,
   "metadata": {},
   "outputs": [
    {
     "name": "stderr",
     "output_type": "stream",
     "text": [
      "/Users/jaromeleslie/anaconda3/lib/python3.7/site-packages/ipykernel_launcher.py:6: DeprecationWarning: use options instead of chrome_options\n",
      "  \n"
     ]
    },
    {
     "name": "stdout",
     "output_type": "stream",
     "text": [
      "http://oasis.caiso.com/oasisapi/SingleZip?queryname=PRC_INTVL_LMP&resultformat=6&startdatetime=20180101T07:00-0000&enddatetime=20180131T07:00-0000&version=1&market_run_id=HASP&node=CLEARKE_6_N012\n",
      "http://oasis.caiso.com/oasisapi/SingleZip?queryname=PRC_INTVL_LMP&resultformat=6&startdatetime=20180201T07:00-0000&enddatetime=20180228T07:00-0000&version=1&market_run_id=HASP&node=CLEARKE_6_N012\n",
      "http://oasis.caiso.com/oasisapi/SingleZip?queryname=PRC_INTVL_LMP&resultformat=6&startdatetime=20180301T07:00-0000&enddatetime=20180331T07:00-0000&version=1&market_run_id=HASP&node=CLEARKE_6_N012\n",
      "http://oasis.caiso.com/oasisapi/SingleZip?queryname=PRC_INTVL_LMP&resultformat=6&startdatetime=20180401T07:00-0000&enddatetime=20180430T07:00-0000&version=1&market_run_id=HASP&node=CLEARKE_6_N012\n",
      "http://oasis.caiso.com/oasisapi/SingleZip?queryname=PRC_INTVL_LMP&resultformat=6&startdatetime=20180501T07:00-0000&enddatetime=20180531T07:00-0000&version=1&market_run_id=HASP&node=CLEARKE_6_N012\n",
      "http://oasis.caiso.com/oasisapi/SingleZip?queryname=PRC_INTVL_LMP&resultformat=6&startdatetime=20180601T07:00-0000&enddatetime=20180630T07:00-0000&version=1&market_run_id=HASP&node=CLEARKE_6_N012\n",
      "http://oasis.caiso.com/oasisapi/SingleZip?queryname=PRC_INTVL_LMP&resultformat=6&startdatetime=20180701T07:00-0000&enddatetime=20180731T07:00-0000&version=1&market_run_id=HASP&node=CLEARKE_6_N012\n",
      "http://oasis.caiso.com/oasisapi/SingleZip?queryname=PRC_INTVL_LMP&resultformat=6&startdatetime=20180801T07:00-0000&enddatetime=20180831T07:00-0000&version=1&market_run_id=HASP&node=CLEARKE_6_N012\n",
      "http://oasis.caiso.com/oasisapi/SingleZip?queryname=PRC_INTVL_LMP&resultformat=6&startdatetime=20180901T07:00-0000&enddatetime=20180930T07:00-0000&version=1&market_run_id=HASP&node=CLEARKE_6_N012\n",
      "http://oasis.caiso.com/oasisapi/SingleZip?queryname=PRC_INTVL_LMP&resultformat=6&startdatetime=20181001T07:00-0000&enddatetime=20181031T07:00-0000&version=1&market_run_id=HASP&node=CLEARKE_6_N012\n",
      "http://oasis.caiso.com/oasisapi/SingleZip?queryname=PRC_INTVL_LMP&resultformat=6&startdatetime=20181101T07:00-0000&enddatetime=20181130T07:00-0000&version=1&market_run_id=HASP&node=CLEARKE_6_N012\n",
      "http://oasis.caiso.com/oasisapi/SingleZip?queryname=PRC_INTVL_LMP&resultformat=6&startdatetime=20181201T07:00-0000&enddatetime=20181231T07:00-0000&version=1&market_run_id=HASP&node=CLEARKE_6_N012\n"
     ]
    },
    {
     "ename": "ValueError",
     "evalue": "No objects to concatenate",
     "output_type": "error",
     "traceback": [
      "\u001b[0;31m---------------------------------------------------------------------------\u001b[0m",
      "\u001b[0;31mValueError\u001b[0m                                Traceback (most recent call last)",
      "\u001b[0;32m<ipython-input-12-9093df8f9f88>\u001b[0m in \u001b[0;36m<module>\u001b[0;34m\u001b[0m\n\u001b[0;32m----> 1\u001b[0;31m \u001b[0mextract_monthly_5min_data\u001b[0m\u001b[0;34m(\u001b[0m\u001b[0;36m2018\u001b[0m\u001b[0;34m,\u001b[0m \u001b[0;34m\"CLEARKE_6_N012\"\u001b[0m\u001b[0;34m)\u001b[0m\u001b[0;34m\u001b[0m\u001b[0;34m\u001b[0m\u001b[0m\n\u001b[0m",
      "\u001b[0;32m<ipython-input-11-1484f7806654>\u001b[0m in \u001b[0;36mextract_monthly_5min_data\u001b[0;34m(year, node)\u001b[0m\n\u001b[1;32m     27\u001b[0m \u001b[0;34m\u001b[0m\u001b[0m\n\u001b[1;32m     28\u001b[0m \u001b[0;34m\u001b[0m\u001b[0m\n\u001b[0;32m---> 29\u001b[0;31m     \u001b[0mcombined_csvs\u001b[0m \u001b[0;34m=\u001b[0m \u001b[0mpd\u001b[0m\u001b[0;34m.\u001b[0m\u001b[0mconcat\u001b[0m\u001b[0;34m(\u001b[0m\u001b[0mentries\u001b[0m\u001b[0;34m)\u001b[0m\u001b[0;34m\u001b[0m\u001b[0;34m\u001b[0m\u001b[0m\n\u001b[0m\u001b[1;32m     30\u001b[0m     \u001b[0mcombined_csvs\u001b[0m\u001b[0;34m.\u001b[0m\u001b[0mto_csv\u001b[0m\u001b[0;34m(\u001b[0m\u001b[0;34m'../data/5min/'\u001b[0m \u001b[0;34m+\u001b[0m \u001b[0mstr\u001b[0m\u001b[0;34m(\u001b[0m\u001b[0myear\u001b[0m\u001b[0;34m)\u001b[0m \u001b[0;34m+\u001b[0m\u001b[0;34m'/'\u001b[0m\u001b[0;34m+\u001b[0m \u001b[0mstr\u001b[0m\u001b[0;34m(\u001b[0m\u001b[0myear\u001b[0m\u001b[0;34m)\u001b[0m \u001b[0;34m+\u001b[0m \u001b[0mnode\u001b[0m \u001b[0;34m+\u001b[0m\u001b[0;34m'.csv'\u001b[0m\u001b[0;34m)\u001b[0m\u001b[0;34m\u001b[0m\u001b[0;34m\u001b[0m\u001b[0m\n",
      "\u001b[0;32m~/anaconda3/lib/python3.7/site-packages/pandas/core/reshape/concat.py\u001b[0m in \u001b[0;36mconcat\u001b[0;34m(objs, axis, join, ignore_index, keys, levels, names, verify_integrity, sort, copy)\u001b[0m\n\u001b[1;32m    279\u001b[0m         \u001b[0mverify_integrity\u001b[0m\u001b[0;34m=\u001b[0m\u001b[0mverify_integrity\u001b[0m\u001b[0;34m,\u001b[0m\u001b[0;34m\u001b[0m\u001b[0;34m\u001b[0m\u001b[0m\n\u001b[1;32m    280\u001b[0m         \u001b[0mcopy\u001b[0m\u001b[0;34m=\u001b[0m\u001b[0mcopy\u001b[0m\u001b[0;34m,\u001b[0m\u001b[0;34m\u001b[0m\u001b[0;34m\u001b[0m\u001b[0m\n\u001b[0;32m--> 281\u001b[0;31m         \u001b[0msort\u001b[0m\u001b[0;34m=\u001b[0m\u001b[0msort\u001b[0m\u001b[0;34m,\u001b[0m\u001b[0;34m\u001b[0m\u001b[0;34m\u001b[0m\u001b[0m\n\u001b[0m\u001b[1;32m    282\u001b[0m     )\n\u001b[1;32m    283\u001b[0m \u001b[0;34m\u001b[0m\u001b[0m\n",
      "\u001b[0;32m~/anaconda3/lib/python3.7/site-packages/pandas/core/reshape/concat.py\u001b[0m in \u001b[0;36m__init__\u001b[0;34m(self, objs, axis, join, keys, levels, names, ignore_index, verify_integrity, copy, sort)\u001b[0m\n\u001b[1;32m    327\u001b[0m \u001b[0;34m\u001b[0m\u001b[0m\n\u001b[1;32m    328\u001b[0m         \u001b[0;32mif\u001b[0m \u001b[0mlen\u001b[0m\u001b[0;34m(\u001b[0m\u001b[0mobjs\u001b[0m\u001b[0;34m)\u001b[0m \u001b[0;34m==\u001b[0m \u001b[0;36m0\u001b[0m\u001b[0;34m:\u001b[0m\u001b[0;34m\u001b[0m\u001b[0;34m\u001b[0m\u001b[0m\n\u001b[0;32m--> 329\u001b[0;31m             \u001b[0;32mraise\u001b[0m \u001b[0mValueError\u001b[0m\u001b[0;34m(\u001b[0m\u001b[0;34m\"No objects to concatenate\"\u001b[0m\u001b[0;34m)\u001b[0m\u001b[0;34m\u001b[0m\u001b[0;34m\u001b[0m\u001b[0m\n\u001b[0m\u001b[1;32m    330\u001b[0m \u001b[0;34m\u001b[0m\u001b[0m\n\u001b[1;32m    331\u001b[0m         \u001b[0;32mif\u001b[0m \u001b[0mkeys\u001b[0m \u001b[0;32mis\u001b[0m \u001b[0;32mNone\u001b[0m\u001b[0;34m:\u001b[0m\u001b[0;34m\u001b[0m\u001b[0;34m\u001b[0m\u001b[0m\n",
      "\u001b[0;31mValueError\u001b[0m: No objects to concatenate"
     ]
    }
   ],
   "source": [
    "extract_monthly_5min_data(2018, \"CLEARKE_6_N012\")"
   ]
  },
  {
   "cell_type": "code",
   "execution_count": 85,
   "metadata": {},
   "outputs": [
    {
     "name": "stderr",
     "output_type": "stream",
     "text": [
      "/Users/jaromeleslie/anaconda3/lib/python3.7/site-packages/ipykernel_launcher.py:6: DeprecationWarning: use options instead of chrome_options\n",
      "  \n"
     ]
    },
    {
     "name": "stdout",
     "output_type": "stream",
     "text": [
      "http://oasis.caiso.com/oasisapi/SingleZip?queryname=PRC_HASP_LMP&resultformat=6&startdatetime=20190101T07:00-0000&enddatetime=20190131T07:00-0000&version=1&market_run_id=HASP&node=SLAP_SCEC-APND\n",
      "http://oasis.caiso.com/oasisapi/SingleZip?queryname=PRC_HASP_LMP&resultformat=6&startdatetime=20190201T07:00-0000&enddatetime=20190228T07:00-0000&version=1&market_run_id=HASP&node=SLAP_SCEC-APND\n",
      "http://oasis.caiso.com/oasisapi/SingleZip?queryname=PRC_HASP_LMP&resultformat=6&startdatetime=20190301T07:00-0000&enddatetime=20190331T07:00-0000&version=1&market_run_id=HASP&node=SLAP_SCEC-APND\n",
      "http://oasis.caiso.com/oasisapi/SingleZip?queryname=PRC_HASP_LMP&resultformat=6&startdatetime=20190401T07:00-0000&enddatetime=20190430T07:00-0000&version=1&market_run_id=HASP&node=SLAP_SCEC-APND\n",
      "http://oasis.caiso.com/oasisapi/SingleZip?queryname=PRC_HASP_LMP&resultformat=6&startdatetime=20190501T07:00-0000&enddatetime=20190531T07:00-0000&version=1&market_run_id=HASP&node=SLAP_SCEC-APND\n",
      "http://oasis.caiso.com/oasisapi/SingleZip?queryname=PRC_HASP_LMP&resultformat=6&startdatetime=20190601T07:00-0000&enddatetime=20190630T07:00-0000&version=1&market_run_id=HASP&node=SLAP_SCEC-APND\n",
      "http://oasis.caiso.com/oasisapi/SingleZip?queryname=PRC_HASP_LMP&resultformat=6&startdatetime=20190701T07:00-0000&enddatetime=20190731T07:00-0000&version=1&market_run_id=HASP&node=SLAP_SCEC-APND\n",
      "http://oasis.caiso.com/oasisapi/SingleZip?queryname=PRC_HASP_LMP&resultformat=6&startdatetime=20190801T07:00-0000&enddatetime=20190831T07:00-0000&version=1&market_run_id=HASP&node=SLAP_SCEC-APND\n",
      "http://oasis.caiso.com/oasisapi/SingleZip?queryname=PRC_HASP_LMP&resultformat=6&startdatetime=20190901T07:00-0000&enddatetime=20190930T07:00-0000&version=1&market_run_id=HASP&node=SLAP_SCEC-APND\n",
      "http://oasis.caiso.com/oasisapi/SingleZip?queryname=PRC_HASP_LMP&resultformat=6&startdatetime=20191001T07:00-0000&enddatetime=20191031T07:00-0000&version=1&market_run_id=HASP&node=SLAP_SCEC-APND\n",
      "http://oasis.caiso.com/oasisapi/SingleZip?queryname=PRC_HASP_LMP&resultformat=6&startdatetime=20191101T07:00-0000&enddatetime=20191130T07:00-0000&version=1&market_run_id=HASP&node=SLAP_SCEC-APND\n",
      "http://oasis.caiso.com/oasisapi/SingleZip?queryname=PRC_HASP_LMP&resultformat=6&startdatetime=20191201T07:00-0000&enddatetime=20191231T07:00-0000&version=1&market_run_id=HASP&node=SLAP_SCEC-APND\n"
     ]
    }
   ],
   "source": [
    "extract_monthly_15min_data(2019, \"SLAP_SCEC-APND\")"
   ]
  },
  {
   "cell_type": "code",
   "execution_count": null,
   "metadata": {},
   "outputs": [],
   "source": [
    "\"http://oasis.caiso.com/oasisapi/SingleZip?queryname=PRC_HASP_LMP&resultformat=6&startdatetime=20190101T07:00-0000&enddatetime=20190131T07:00-0000&version=1&market_run_id=HASP&node=SLAP_SCEC-APND\""
   ]
  },
  {
   "cell_type": "code",
   "execution_count": null,
   "metadata": {},
   "outputs": [],
   "source": []
  },
  {
   "cell_type": "code",
   "execution_count": null,
   "metadata": {},
   "outputs": [],
   "source": []
  },
  {
   "cell_type": "code",
   "execution_count": null,
   "metadata": {},
   "outputs": [],
   "source": []
  }
 ],
 "metadata": {
  "kernelspec": {
   "display_name": "Python 3",
   "language": "python",
   "name": "python3"
  },
  "language_info": {
   "codemirror_mode": {
    "name": "ipython",
    "version": 3
   },
   "file_extension": ".py",
   "mimetype": "text/x-python",
   "name": "python",
   "nbconvert_exporter": "python",
   "pygments_lexer": "ipython3",
   "version": "3.7.6"
  }
 },
 "nbformat": 4,
 "nbformat_minor": 4
}
